{
 "cells": [
  {
   "cell_type": "code",
   "execution_count": 1,
   "id": "36735b40",
   "metadata": {},
   "outputs": [
    {
     "name": "stderr",
     "output_type": "stream",
     "text": [
      "c:\\python\\Lib\\site-packages\\tqdm\\auto.py:21: TqdmWarning: IProgress not found. Please update jupyter and ipywidgets. See https://ipywidgets.readthedocs.io/en/stable/user_install.html\n",
      "  from .autonotebook import tqdm as notebook_tqdm\n"
     ]
    }
   ],
   "source": [
    "from transformers import (\n",
    "    AutoTokenizer,\n",
    "    LEDForConditionalGeneration,\n",
    "    LEDConfig\n",
    ")\n",
    "from datasets import load_dataset, load_metric\n",
    "import torch\n",
    "from collections import OrderedDict"
   ]
  },
  {
   "cell_type": "markdown",
   "id": "b9f59338",
   "metadata": {},
   "source": [
    "First, we load the **Multi-news** dataset from huggingface dataset hub"
   ]
  },
  {
   "cell_type": "code",
   "execution_count": 2,
   "id": "5faeeffc",
   "metadata": {},
   "outputs": [],
   "source": [
    "dataset=load_dataset('multi_news', trust_remote_code=True)"
   ]
  },
  {
   "cell_type": "code",
   "execution_count": 6,
   "id": "aa7cc6a7",
   "metadata": {},
   "outputs": [
    {
     "name": "stdout",
     "output_type": "stream",
     "text": [
      "National Archives \n",
      " \n",
      " Yes, it’s that time again, folks. It’s the first Friday of the month, when for one ever-so-brief moment the interests of Wall Street, Washington and Main Street are all aligned on one thing: Jobs. \n",
      " \n",
      " A fresh update on the U.S. employment situation for January hits the wires at 8:30 a.m. New York time offering one of the most important snapshots on how the economy fared during the previous month. Expectations are for 203,000 new jobs to be created, according to economists polled by Dow Jones Newswires, compared to 227,000 jobs added in February. The unemployment rate is expected to hold steady at 8.3%. \n",
      " \n",
      " Here at MarketBeat HQ, we’ll be offering color commentary before and after the data crosses the wires. Feel free to weigh-in yourself, via the comments section. And while you’re here, why don’t you sign up to follow us on Twitter. \n",
      " \n",
      " Enjoy the show. ||||| Employers pulled back sharply on hiring last month, a reminder that the U.S. economy may not be growing fast enough to sustain robust job growth. The unemployment rate dipped, but mostly because more Americans stopped looking for work. \n",
      " \n",
      " The Labor Department says the economy added 120,000 jobs in March, down from more than 200,000 in each of the previous three months. \n",
      " \n",
      " The unemployment rate fell to 8.2 percent, the lowest since January 2009. The rate dropped because fewer people searched for jobs. The official unemployment tally only includes those seeking work. \n",
      " \n",
      " The economy has added 858,000 jobs since December _ the best four months of hiring in two years. But Federal Reserve Chairman Ben Bernanke has cautioned that the current hiring pace is unlikely to continue without more consumer spending.\n",
      "– The unemployment rate dropped to 8.2% last month, but the economy only added 120,000 jobs, when 203,000 new jobs had been predicted, according to today's jobs report. Reaction on the Wall Street Journal's MarketBeat Blog was swift: \"Woah!!! Bad number.\" The unemployment rate, however, is better news; it had been expected to hold steady at 8.3%. But the AP notes that the dip is mostly due to more Americans giving up on seeking employment.\n"
     ]
    }
   ],
   "source": [
    "data = dataset['train'][0]\n",
    "print(data['document'])\n",
    "print(data['summary'])"
   ]
  },
  {
   "cell_type": "markdown",
   "id": "a9137321",
   "metadata": {},
   "source": [
    "Then we load the fine-tuned PRIMERA model, please download [it](https://storage.googleapis.com/primer_summ/PRIMER_multinews.tar.gz) to your local computer."
   ]
  },
  {
   "cell_type": "code",
   "execution_count": 16,
   "id": "890f434e",
   "metadata": {},
   "outputs": [],
   "source": [
    "PRIMER_path='F:\\\\resources\\\\PRIMER_multinews'\n",
    "TOKENIZER = AutoTokenizer.from_pretrained(PRIMER_path)\n",
    "\n",
    "states = torch.load('F:\\\\resources\\\\PRIMER_multinews\\\\pytorch_model.bin')\n",
    "new_states = OrderedDict()\n",
    "for k in states:\n",
    "    new_k=k.replace('model','led')\n",
    "    new_states[new_k]=states[k]\n",
    "new_states['led.encoder.embed_positions.weight'] = states['model.encoder.embed_positions.weight'][2:]\n",
    "new_states['led.decoder.embed_positions.weight'] = states['model.decoder.embed_positions.weight'][2:]\n",
    "new_states['lm_head.weight'] = states['model.shared.weight']\n",
    "config=LEDConfig.from_pretrained('F:\\\\resources\\\\PRIMER_multinews')\n",
    "\n",
    "MODEL = LEDForConditionalGeneration(config).cuda()\n",
    "MODEL.load_state_dict(new_states)\n",
    "MODEL.gradient_checkpointing_enable()\n",
    "PAD_TOKEN_ID = TOKENIZER.pad_token_id\n",
    "DOCSEP_TOKEN_ID = TOKENIZER.convert_tokens_to_ids(\"<doc-sep>\")"
   ]
  },
  {
   "cell_type": "markdown",
   "id": "bd5aabfc",
   "metadata": {},
   "source": [
    "We then define the functions to pre-process the data, as well as the function to generate summaries."
   ]
  },
  {
   "cell_type": "code",
   "execution_count": 18,
   "id": "7bfecd47",
   "metadata": {},
   "outputs": [],
   "source": [
    "def process_document(documents):\n",
    "    input_ids_all=[]\n",
    "    for data in documents:\n",
    "        all_docs = data.split(\"|||||\")[:-1]\n",
    "        for i, doc in enumerate(all_docs):\n",
    "            doc = doc.replace(\"\\n\", \" \")\n",
    "            doc = \" \".join(doc.split())\n",
    "            all_docs[i] = doc\n",
    "\n",
    "        #### concat with global attention on doc-sep\n",
    "        input_ids = []\n",
    "        for doc in all_docs:\n",
    "            input_ids.extend(\n",
    "                TOKENIZER.encode(\n",
    "                    doc,\n",
    "                    truncation=True,\n",
    "                    max_length=4096 // len(all_docs),\n",
    "                )[1:-1]\n",
    "            )\n",
    "            input_ids.append(DOCSEP_TOKEN_ID)\n",
    "        input_ids = (\n",
    "            [TOKENIZER.bos_token_id]\n",
    "            + input_ids\n",
    "            + [TOKENIZER.eos_token_id]\n",
    "        )\n",
    "        input_ids_all.append(torch.tensor(input_ids))\n",
    "    input_ids = torch.nn.utils.rnn.pad_sequence(\n",
    "        input_ids_all, batch_first=True, padding_value=PAD_TOKEN_ID\n",
    "    )\n",
    "    return input_ids.cuda()\n",
    "\n",
    "\n",
    "def batch_process(batch):\n",
    "    input_ids=process_document(batch['document'])\n",
    "    # get the input ids and attention masks together\n",
    "    global_attention_mask = torch.zeros_like(input_ids).to(input_ids.device)\n",
    "    # put global attention on <s> token\n",
    "\n",
    "    global_attention_mask[:, 0] = 1\n",
    "    global_attention_mask[input_ids == DOCSEP_TOKEN_ID] = 1\n",
    "    generated_ids = MODEL.generate(\n",
    "        input_ids=input_ids,\n",
    "        global_attention_mask=global_attention_mask,\n",
    "        use_cache=True,\n",
    "        max_length=1024,\n",
    "        num_beams=5,\n",
    "    )\n",
    "    generated_str = TOKENIZER.batch_decode(\n",
    "            generated_ids.tolist(), skip_special_tokens=True\n",
    "        )\n",
    "    result={}\n",
    "    result['generated_summaries'] = generated_str\n",
    "    result['gt_summaries']=batch['summary']\n",
    "    return result"
   ]
  },
  {
   "cell_type": "markdown",
   "id": "250f3053",
   "metadata": {},
   "source": [
    "Next, we simply run the model on 10 data examples (or any number of examples you want)"
   ]
  },
  {
   "cell_type": "code",
   "execution_count": 19,
   "id": "631ead96",
   "metadata": {},
   "outputs": [
    {
     "name": "stderr",
     "output_type": "stream",
     "text": [
      "Map:   0%|          | 0/10 [00:00<?, ? examples/s]Input ids are automatically padded from 825 to 1024 to be a multiple of `config.attention_window`: 512\n",
      "c:\\python\\Lib\\site-packages\\torch\\utils\\checkpoint.py:90: UserWarning: None of the inputs have requires_grad=True. Gradients will be None\n",
      "  warnings.warn(\n",
      "Map:  20%|██        | 2/10 [01:16<05:07, 38.46s/ examples]Input ids are automatically padded from 3163 to 3584 to be a multiple of `config.attention_window`: 512\n",
      "Map:  40%|████      | 4/10 [17:58<31:02, 310.40s/ examples]Input ids are automatically padded from 4093 to 4096 to be a multiple of `config.attention_window`: 512\n",
      "Map:  60%|██████    | 6/10 [48:00<38:40, 580.13s/ examples]Input ids are automatically padded from 2812 to 3072 to be a multiple of `config.attention_window`: 512\n",
      "Map:  80%|████████  | 8/10 [50:31<12:41, 380.96s/ examples]Input ids are automatically padded from 998 to 1024 to be a multiple of `config.attention_window`: 512\n",
      "Map: 100%|██████████| 10/10 [51:37<00:00, 309.77s/ examples]\n"
     ]
    }
   ],
   "source": [
    "import random\n",
    "data_idx = random.choices(range(len(dataset['test'])),k=10)\n",
    "dataset_small = dataset['test'].select(data_idx)\n",
    "result_small = dataset_small.map(batch_process, batched=True, batch_size=2)"
   ]
  },
  {
   "cell_type": "markdown",
   "id": "ab2dd96d",
   "metadata": {},
   "source": [
    "After getting all the results, we load the evaluation metric. \n",
    "\n",
    "\n",
    "(Note in the original code, we didn't use the default aggregators, instead, we simply take average over all the scores.\n",
    "We simply use 'mid' in this notebook)"
   ]
  },
  {
   "cell_type": "code",
   "execution_count": 19,
   "id": "d8f31905",
   "metadata": {},
   "outputs": [],
   "source": [
    "rouge = load_metric(\"rouge\")"
   ]
  },
  {
   "cell_type": "code",
   "execution_count": 20,
   "id": "81814601",
   "metadata": {},
   "outputs": [
    {
     "data": {
      "text/plain": [
       "['– Boston’s New England Holocaust Memorial was vandalized for the second time in two months last night, when a teen shattered a glass panel etched with the numbers that Nazis tattooed on concentration camp victims, the AP reports. Police were called about 6:40pm to the downtown landmark and said witnesses helped them identify a 17-year-old suspect. The suspect’s name was not released because he is a juvenile. He is due to be arraigned today in Boston Municipal Court. Police were investigating the motive.',\n",
       " '– The electric chair has been sitting in storage since 1966, when the last inmate was executed in it for the murder of his cellmate. But that may be about to change. The city of McAlester, home to the state\\'s death chamber, says it owns the chair, which was transferred to the state corrections department a few years ago, the Guardian reports. The city\\'s mayor says the chair should be put on display to the public. \"I would like to get it displayed somewhere since it is a historical artifact,\" he says. \"I don’t think it does anybody any good for it to sit in storage somewhere.\" The chair, nicknamed \"Old Sparky,\" was first used in 1915 and was used to execute 82 inmates before it was retired, the Guardian notes. The city\\'s mayor says the chair hasn\\'t been used since 1966, and he expects the state to get a new one if it ever plans to use it to execute an inmate again. \"Can’t imagine they would use one that hasn’t been used in 50 years,\" he says.',\n",
       " \"– Thomas Monson, the 16th president of the Mormon church, has died after overseeing the religion for nine years. He was 90. Monson died Tuesday night at his home in Salt Lake City, according to church spokesman Eric Hawkins. Monson spent more than five decades serving in top church leadership councils—making him a well-known face and personality to multiple generations of Mormons, the AP reports. A church bishop at the age of 22, the Salt Lake City native became the youngest church apostle ever in 1963 at the age of 36. He served as a counselor for three church presidents before assuming the role of the top leader of The Church of Jesus Christ of Latter-day Saints in February 2008. The next president was not immediately named, but the job is expected to go to the next longest-tenured member of the church's governing Quorum of the Twelve Apostles, Russell M. Nelson, per church protocol. Monson's presidency was marked by his noticeably low profile during a time of intense publicity for the church, including the 2008 and 2012 campaigns of Mormon Mitt Romney for President. Monson will also be remembered for his emphasis on humanitarian work, leading the faith's involvement in the passage of gay marriage ban in California in 2008; continuing the religion's push to be more transparent about its past; and lowering the minimum age for missionaries.\",\n",
       " '– If you hate your job at Amazon, you can get up to $5,000 to quit. That\\'s the gist of a letter written by CEO Jeff Bezos to shareholders earlier this month, Business Insider reports. In the letter, Bezos explains that once a year, the company offers to pay associates to quit. The first year is $2,000, then $1,000, then $5,000. \"The headline on the offer is \\'Please Don’t Take This Offer,\\'\" Bezos writes. \"We hope they don’t take the offer; we want them to stay. Why do we make this offer? The goal is to encourage folks to take a moment and think about what they really want. In the long-run, an employee staying somewhere they don’t want to be isn’t healthy for the employee or the company.\" The Tennessean reports that the company also offers an education program called Career Choice, in which Amazon pre-pays 95% of the tuition for workers who want to \"take courses for in-demand fields, such as airplane mechanic or nursing, regardless of whether the skills are relevant to a career at Amazon.\" The goal of both programs \"is to enable choice,\" Bezos writes. \"We know that for some of our fulfillment center employees, Amazon will be a career. For others, Amazon might be a stepping stone on the way to a job somewhere else—a job that may require new skills. If the right training can make the difference, we want to help.\"',\n",
       " '– Edward Snowden was expected to board a flight from Moscow to Havana today, but he\\'s not on the plane, reports the AP. He registered for the flight on Sunday using his US passport, which US officials say has been annulled as part of an effort to prosecute him for revealing highly classified government secrets. The next step on his journey to evade US justice and seek asylum in Ecuador was to board a flight from Moscow to Havana, reports the AP, but it\\'s not clear where he is at this point. Earlier reports indicated he was on an Aeroflot flight from Moscow to Havana, but NBC News reports that he\\'s not on that one, either. The New York Times, meanwhile, reports that WikiLeaks founder Julian Assange, who\\'s been advising Snowden, says he\\'s in touch with Russia\\'s foreign minister. Meanwhile, Secretary of State John Kerry says it would be \"deeply troubling\" if Russia or Hong Kong had adequate notice about Snowden\\'s plans to flee to a country that will grant him asylum and still allow him to leave, reports the Washington Post. He says it would also be \"very disappointing\" if China and Russia allowed Snowden to fly, and there would undoubtedly be \"an impact on our relations.\" Snowden \"places himself above the law, having betrayed his country,\" Kerry says. The National Security Council issued a statement today saying it was \"disappointed by the decision of the authorities in Hong Kong to permit Mr. Snowden to flee despite the legally valid US request to arrest him for purposes of his extradition under the US-Hong Kong Surrender Agreement. We have registered our strong objections to the authorities in Hong Kong as well as to the Chinese government through diplomatic channels and noted that such behavior is detrimental to US-Hong Kong and US-China bilateral relations.\" The statement continued, \"We now understand Mr. Snowden is on Russian soil. Given our intensified cooperation after the Boston marathon bombings and our history of working with Russia on law enforcement matters—including returning numerous high level criminals back to Russia at the request of the Russian government—we expect the Russian Government to look at all options available to expel Mr. Snowden back to the US to face justice for the crimes with which he is charged.\"',\n",
       " '– The death toll from the Taliban attack on a school in Peshawar, Pakistan, has risen to 145, including 132 children and nine staff members, reports the BBC. The death toll does not include the seven Taliban attackers who stormed the military-run school yesterday morning, CNN reports. They burst into an auditorium where a large number of students were taking an exam and killed many of them within minutes. \"As soon as we entered the hall, firing started behind us in the hall. Our teacher said close the doors,” one student tells the Guardian. “We closed the doors and suddenly they entered, breaking the doors. … As soon as we hid under tables, they fired bullets at our legs and our heads and then they burned our madam. They burned our madam. The firing continued but we didn’t move because whoever moved got shot at.” Another student says he tried to play dead after being shot, stuffing his tie in his mouth to prevent him from screaming. \"The man with big boots kept on looking for students and pumping bullets into their bodies,\" he says. \"I lay as still as I could and closed my eyes, waiting to get shot again. My body was shivering. I saw death so close and I will never forget the black boots approaching me—I felt as though it was death that was approaching me.\"',\n",
       " '– Women who eat more potatoes before pregnancy may have a higher risk of developing gestational diabetes, which is a common pregnancy complication that causes high blood sugar levels in the mother and can lead to future health problems for the mother and baby, according to a press release. Researchers from the National Institutes of Health and Harvard University tracked more than 21,000 women over a 10-year period and found that women who ate more potatoes before pregnancy had a higher risk of developing gestational diabetes. Previous studies have linked foods with a high glycemic index to a higher risk of gestational or type 2 diabetes, but until this study, the effect of potatoes, a high-glycemic food, on the development of gestational diabetes was unknown, the BBC reports. Researchers say that substituting potatoes with other vegetables, legumes, or whole grains could lower the risk of gestational diabetes by 9% to 12% if women substituted potatoes for vegetables or whole grains at least twice a week, the BBC reports. But UK experts say there isn\\'t enough evidence to warn women off eating lots of potatoes. \"The evidence tells us that we need to eat more starchy foods, such as potatoes, bread, pasta, and rice, as well as fruit and vegetables to increase fiber consumption and protect bowel health,\" a doctor at Diabetes UK tells the BBC. \"Our advice remains the same: base meals around a variety of starchy foods, including potatoes with the skin on, and choose wholegrain varieties where possible.\"',\n",
       " '– Focus, starring Will Smith as a conman and Margot Robbie as the young woman he takes on a con, is \"ridiculous in every detail,\" writes Mick LaSalle at the San Francisco Chronicle. \"It’s a movie with no truth that teaches nothing and shows nothing, that has only its audacity to recommend it. Once that’s realized, it’s possible to take it for what it is and enjoy it, a little.\" It\\'s \"a movie about Will Smith’s jaded charm and about how Margot Robbie looks completely different with her hair up than she does with it down,\" LaSalle continues. \"Think of it as scenes disconnected from other scenes, which are amusing for their own sake but that have little to do with each other. Then you won’t be disappointed.\" At the New York Times, Manohla Dargis agrees that the film is \"ridiculous in every detail,\" but she also commends director John Requa and screenwriter Glenn Ficarra for letting Smith \"be Will in the star’s first charm barrage since 2005’s Hitch.\" The film is \"a Will Smith movie that dares to be small,\" she writes. \"He may not be the 21st-century Cary Grant—who could be?—but as a Hollywood charmer, he’s still the real deal.\"',\n",
       " '– A Blue Angels F/A-18 fighter jet crashed Thursday near Nashville, Tennessee, killing the pilot just days before a weekend air show performance, officials say. A US official said the pilot was Marine Capt. Jeff Kuss, the AP reports. According to his official Blue Angels biography, Kuss joined the elite acrobatics team in 2014 and accumulated more than 1,400 flight hours. Harry Gill, the town manager in Smyrna just outside Nashville, said Thursday that the pilot was the only casualty and no civilians on the ground were hurt. The Navy said in a news release that the pilot was beginning to take off during an afternoon practice session when the crash happened. Five other F/A-18 jets landed safely moments after the crash. \"My thoughts and prayers go out to the family and friends of the Blue Angels after this tragic loss. I know that the Navy and Marine Corps Team is with me. We will investigate this accident fully and do all we can to prevent similar incidents in the future,\" Adm. John Richardson, the Navy\\'s top officer, said in a Facebook post.',\n",
       " '– Scientists have found evidence of life far below the Antarctic ice sheet—in a lake that hasn\\'t been exposed to sunlight or wind for millions of years. \"We were able to prove unequivocally to the world that Antarctica is not a dead continent,\" researcher John Priscu says in a release. Priscu and his team used special drilling techniques to get about a half-mile below the West Antarctic Ice Sheet to find microorganisms living in a lake untouched by sunlight or wind for millions of years, Wired reports. The team found the single-celled microbes, called Archaea, which convert ammonium and methane into energy to survive and grow. \"It’s the first definitive evidence that there’s not only life, but active ecosystems underneath the Antarctic ice sheet, something that we have been guessing about for decades,\" the paper\\'s lead author says. \"With this paper, we pound the table and say, \\'Yes, we were right.\\'\" Similar expeditions have found sub-ice environments teeming with bacteria in recent years, but questions have been raised about possible contamination in the drilling process. The discovery raises the obvious question of what other extreme environments might be able to harbor life on our planet, or beyond. Saturn\\'s moon Titan, for example, is far colder than Earth, but plays host to vast lakes of liquid methane that could be a feast for microbes similar to those living under the Antarctic ice sheet. Tidally-heated liquid oceans are also believed to exist beneath the icy shell of Jupiter\\'s moon Europa and other objects in our solar system. NASA could launch a mission to explore Europa sometime in the 2020s.']"
      ]
     },
     "execution_count": 20,
     "metadata": {},
     "output_type": "execute_result"
    }
   ],
   "source": [
    "result_small['generated_summaries']"
   ]
  },
  {
   "cell_type": "code",
   "execution_count": 33,
   "id": "8d9923d2",
   "metadata": {},
   "outputs": [
    {
     "name": "stdout",
     "output_type": "stream",
     "text": [
      "Score(precision=0.509437078378281, recall=0.43832461548851936, fmeasure=0.4644188580686355)\n",
      "Score(precision=0.17689604682544763, recall=0.14564519595131636, fmeasure=0.1581222605371442)\n",
      "Score(precision=0.2362355904256852, recall=0.19669444890277293, fmeasure=0.21194685290367665)\n"
     ]
    }
   ],
   "source": [
    "score=rouge.compute(predictions=result_small[\"generated_summaries\"], references=result_small[\"gt_summaries\"])\n",
    "print(score['rouge1'].mid)\n",
    "print(score['rouge2'].mid)\n",
    "print(score['rougeL'].mid)"
   ]
  },
  {
   "cell_type": "code",
   "execution_count": 27,
   "id": "6e5cdd3d",
   "metadata": {},
   "outputs": [],
   "source": [
    "import random"
   ]
  },
  {
   "cell_type": "code",
   "execution_count": 30,
   "id": "c2c76256",
   "metadata": {},
   "outputs": [
    {
     "data": {
      "text/plain": [
       "[4496, 1390, 2088, 2130, 1604]"
      ]
     },
     "execution_count": 30,
     "metadata": {},
     "output_type": "execute_result"
    }
   ],
   "source": [
    "random.choices(range(5000),k=5)"
   ]
  },
  {
   "cell_type": "markdown",
   "id": "7e763cc4",
   "metadata": {},
   "source": [
    "– Facebook removed a photo of two men kissing in protest of a London pub’s decision to eject a same-sex couple for kissing, reports the America Blog. “Shares that contain nudity, or any kind of graphic or sexually suggestive content, are not permitted on Facebook,” the administrators of the Dangerous Minds Facebook page said in an email. The decision to remove the photo has prompted scores of people to post their own pictures of same-sex couples kissing in protest— dozens in the last few hours alone."
   ]
  },
  {
   "cell_type": "markdown",
   "id": "fc3708f8",
   "metadata": {},
   "source": [
    "– Facebook has removed a photo from a protest page for a gay pub that booted a same-sex couple for kissing, USA Today reports. The Dangerous Minds Facebook page was trying to promote a “gay kiss-in” demonstration in London to protest the pub. The page used a photo of two men kissing to promote the event. But Facebook quickly removed the photo, saying in an email, “Shares that contain nudity, or any kind of graphic or sexually suggestive content, are not permitted on Facebook.” The decision to remove the photo has prompted scores of people to post their own pictures of same-sex couples kissing in protest— dozens in the last few hours alone."
   ]
  }
 ],
 "metadata": {
  "kernelspec": {
   "display_name": "Python 3 (ipykernel)",
   "language": "python",
   "name": "python3"
  },
  "language_info": {
   "codemirror_mode": {
    "name": "ipython",
    "version": 3
   },
   "file_extension": ".py",
   "mimetype": "text/x-python",
   "name": "python",
   "nbconvert_exporter": "python",
   "pygments_lexer": "ipython3",
   "version": "3.11.8"
  }
 },
 "nbformat": 4,
 "nbformat_minor": 5
}
